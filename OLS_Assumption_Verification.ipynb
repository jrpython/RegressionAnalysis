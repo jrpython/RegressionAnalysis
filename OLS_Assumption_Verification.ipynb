{
 "cells": [
  {
   "cell_type": "markdown",
   "metadata": {},
   "source": [
    "## OLS Assumption Verification: Endogeneity of regressors\n",
    "\n",
    "This code is to verify OLS assumption of endogeneity of regressors. Mathematically, this is expressed as the covariance of the error and the Xs is 0 for any error or x. It refers to the prohibition of a link between the independent variables and the errors."
   ]
  },
  {
   "cell_type": "code",
   "execution_count": 1,
   "metadata": {},
   "outputs": [],
   "source": [
    "import pandas as pd\n",
    "from sklearn.datasets import make_regression\n",
    "import numpy as np\n",
    "from statistics import stdev\n",
    "from sklearn.linear_model import LinearRegression"
   ]
  },
  {
   "cell_type": "markdown",
   "metadata": {},
   "source": [
    "<b>Step 1: Generate Data</b>"
   ]
  },
  {
   "cell_type": "code",
   "execution_count": 2,
   "metadata": {},
   "outputs": [],
   "source": [
    "random_state = 22\n",
    "\n",
    "effective_rank = 100\n",
    "\n",
    "n_sample = 1000 # Number of samples\n",
    "n_features = 5 # Number of features\n",
    "n_informative = 5 # Number of features used to build the linear model used to generate the output (i.e. Significant in the output)\n",
    "n_targets = 1 # Dimension of the y output vector associated with a sample. By default, the output is a scalar\n",
    "bias = 0.0 # Bias term in the underlying linear model\n",
    "noise = 0 # Standard deviation of the gaussian noise applied to the output (i.e. Stdev of residuals)\n",
    "\n",
    "y_column = \"Target\""
   ]
  },
  {
   "cell_type": "code",
   "execution_count": 3,
   "metadata": {},
   "outputs": [],
   "source": [
    "X, y, coef = make_regression(n_samples = n_sample, n_features = n_features,\n",
    "                             n_informative = n_informative, n_targets = n_targets,\n",
    "                             noise = noise, coef = True, random_state=random_state,\n",
    "                             effective_rank = effective_rank)"
   ]
  },
  {
   "cell_type": "markdown",
   "metadata": {},
   "source": [
    "<b>Step 2: Fit Model</b>"
   ]
  },
  {
   "cell_type": "code",
   "execution_count": 4,
   "metadata": {},
   "outputs": [],
   "source": [
    "import statsmodels.api as sm\n",
    "\n",
    "def fit_model(X_input):\n",
    "    #X_with_constant = sm.add_constant(X_input)\n",
    "    regressor_OLS = sm.OLS(endog = y, exog = X_input).fit()\n",
    "    return regressor_OLS"
   ]
  },
  {
   "cell_type": "markdown",
   "metadata": {},
   "source": [
    "<b>Model Summary</b>"
   ]
  },
  {
   "cell_type": "code",
   "execution_count": 5,
   "metadata": {},
   "outputs": [
    {
     "data": {
      "text/html": [
       "<table class=\"simpletable\">\n",
       "<caption>OLS Regression Results</caption>\n",
       "<tr>\n",
       "  <th>Dep. Variable:</th>            <td>y</td>        <th>  R-squared:         </th>  <td>   1.000</td> \n",
       "</tr>\n",
       "<tr>\n",
       "  <th>Model:</th>                   <td>OLS</td>       <th>  Adj. R-squared:    </th>  <td>   1.000</td> \n",
       "</tr>\n",
       "<tr>\n",
       "  <th>Method:</th>             <td>Least Squares</td>  <th>  F-statistic:       </th>  <td>2.445e+32</td>\n",
       "</tr>\n",
       "<tr>\n",
       "  <th>Date:</th>             <td>Wed, 19 Aug 2020</td> <th>  Prob (F-statistic):</th>   <td>  0.00</td>  \n",
       "</tr>\n",
       "<tr>\n",
       "  <th>Time:</th>                 <td>18:31:59</td>     <th>  Log-Likelihood:    </th>  <td>  31903.</td> \n",
       "</tr>\n",
       "<tr>\n",
       "  <th>No. Observations:</th>      <td>  1000</td>      <th>  AIC:               </th> <td>-6.379e+04</td>\n",
       "</tr>\n",
       "<tr>\n",
       "  <th>Df Residuals:</th>          <td>   994</td>      <th>  BIC:               </th> <td>-6.377e+04</td>\n",
       "</tr>\n",
       "<tr>\n",
       "  <th>Df Model:</th>              <td>     5</td>      <th>                     </th>      <td> </td>    \n",
       "</tr>\n",
       "<tr>\n",
       "  <th>Covariance Type:</th>      <td>nonrobust</td>    <th>                     </th>      <td> </td>    \n",
       "</tr>\n",
       "</table>\n",
       "<table class=\"simpletable\">\n",
       "<tr>\n",
       "    <td></td>       <th>coef</th>     <th>std err</th>      <th>t</th>      <th>P>|t|</th>  <th>[0.025</th>    <th>0.975]</th>  \n",
       "</tr>\n",
       "<tr>\n",
       "  <th>const</th> <td> 3.469e-18</td> <td> 1.07e-16</td> <td>    0.032</td> <td> 0.974</td> <td>-2.07e-16</td> <td> 2.14e-16</td>\n",
       "</tr>\n",
       "<tr>\n",
       "  <th>x1</th>    <td>   72.9146</td> <td> 3.39e-15</td> <td> 2.15e+16</td> <td> 0.000</td> <td>   72.915</td> <td>   72.915</td>\n",
       "</tr>\n",
       "<tr>\n",
       "  <th>x2</th>    <td>   51.8442</td> <td> 3.39e-15</td> <td> 1.53e+16</td> <td> 0.000</td> <td>   51.844</td> <td>   51.844</td>\n",
       "</tr>\n",
       "<tr>\n",
       "  <th>x3</th>    <td>   68.2984</td> <td>  3.4e-15</td> <td> 2.01e+16</td> <td> 0.000</td> <td>   68.298</td> <td>   68.298</td>\n",
       "</tr>\n",
       "<tr>\n",
       "  <th>x4</th>    <td>    7.1279</td> <td> 3.39e-15</td> <td>  2.1e+15</td> <td> 0.000</td> <td>    7.128</td> <td>    7.128</td>\n",
       "</tr>\n",
       "<tr>\n",
       "  <th>x5</th>    <td>   36.7204</td> <td> 3.39e-15</td> <td> 1.08e+16</td> <td> 0.000</td> <td>   36.720</td> <td>   36.720</td>\n",
       "</tr>\n",
       "</table>\n",
       "<table class=\"simpletable\">\n",
       "<tr>\n",
       "  <th>Omnibus:</th>       <td> 1.221</td> <th>  Durbin-Watson:     </th> <td>   1.898</td>\n",
       "</tr>\n",
       "<tr>\n",
       "  <th>Prob(Omnibus):</th> <td> 0.543</td> <th>  Jarque-Bera (JB):  </th> <td>   1.276</td>\n",
       "</tr>\n",
       "<tr>\n",
       "  <th>Skew:</th>          <td> 0.082</td> <th>  Prob(JB):          </th> <td>   0.528</td>\n",
       "</tr>\n",
       "<tr>\n",
       "  <th>Kurtosis:</th>      <td> 2.938</td> <th>  Cond. No.          </th> <td>    31.8</td>\n",
       "</tr>\n",
       "</table><br/><br/>Warnings:<br/>[1] Standard Errors assume that the covariance matrix of the errors is correctly specified."
      ],
      "text/plain": [
       "<class 'statsmodels.iolib.summary.Summary'>\n",
       "\"\"\"\n",
       "                            OLS Regression Results                            \n",
       "==============================================================================\n",
       "Dep. Variable:                      y   R-squared:                       1.000\n",
       "Model:                            OLS   Adj. R-squared:                  1.000\n",
       "Method:                 Least Squares   F-statistic:                 2.445e+32\n",
       "Date:                Wed, 19 Aug 2020   Prob (F-statistic):               0.00\n",
       "Time:                        18:31:59   Log-Likelihood:                 31903.\n",
       "No. Observations:                1000   AIC:                        -6.379e+04\n",
       "Df Residuals:                     994   BIC:                        -6.377e+04\n",
       "Df Model:                           5                                         \n",
       "Covariance Type:            nonrobust                                         \n",
       "==============================================================================\n",
       "                 coef    std err          t      P>|t|      [0.025      0.975]\n",
       "------------------------------------------------------------------------------\n",
       "const       3.469e-18   1.07e-16      0.032      0.974   -2.07e-16    2.14e-16\n",
       "x1            72.9146   3.39e-15   2.15e+16      0.000      72.915      72.915\n",
       "x2            51.8442   3.39e-15   1.53e+16      0.000      51.844      51.844\n",
       "x3            68.2984    3.4e-15   2.01e+16      0.000      68.298      68.298\n",
       "x4             7.1279   3.39e-15    2.1e+15      0.000       7.128       7.128\n",
       "x5            36.7204   3.39e-15   1.08e+16      0.000      36.720      36.720\n",
       "==============================================================================\n",
       "Omnibus:                        1.221   Durbin-Watson:                   1.898\n",
       "Prob(Omnibus):                  0.543   Jarque-Bera (JB):                1.276\n",
       "Skew:                           0.082   Prob(JB):                        0.528\n",
       "Kurtosis:                       2.938   Cond. No.                         31.8\n",
       "==============================================================================\n",
       "\n",
       "Warnings:\n",
       "[1] Standard Errors assume that the covariance matrix of the errors is correctly specified.\n",
       "\"\"\""
      ]
     },
     "execution_count": 5,
     "metadata": {},
     "output_type": "execute_result"
    }
   ],
   "source": [
    "X_with_constant = sm.add_constant(X)\n",
    "regressor_all = fit_model(X_with_constant)\n",
    "regressor_all.summary()"
   ]
  },
  {
   "cell_type": "markdown",
   "metadata": {},
   "source": [
    "<b>Step 3: Calculate residuals</b>"
   ]
  },
  {
   "cell_type": "code",
   "execution_count": 6,
   "metadata": {},
   "outputs": [],
   "source": [
    "# Convert to dataframe\n",
    "y = pd.DataFrame(y, columns=[y_column])\n",
    "\n",
    "regressor_for_all = LinearRegression()\n",
    "regressor_for_all.fit(X,y)\n",
    "y_pred= regressor_for_all.predict(X)\n",
    "# Convert Pandas series to Pandas dataframe\n",
    "y_pred = pd.DataFrame(data=y_pred.flatten())\n",
    "\n",
    "# Create output data frame\n",
    "y_all = pd.DataFrame()\n",
    "y_all['y_Actual'] = y[y_column]\n",
    "y_all['y_Predicted'] = y_pred[0]\n",
    "y_all['y_residual'] = y_all['y_Actual'] - y_all['y_Predicted']\n",
    "\n",
    "# Create X dataframe and rename all columns\n",
    "X_all = pd.DataFrame(X)\n",
    "for i in range(n_features):\n",
    "    X_all.rename(columns = {i: \"x\"+str(i+1)}, inplace = True)"
   ]
  },
  {
   "cell_type": "markdown",
   "metadata": {},
   "source": [
    "<b>Calculate Standard deviation of y_Residual</b>"
   ]
  },
  {
   "cell_type": "code",
   "execution_count": 7,
   "metadata": {},
   "outputs": [
    {
     "name": "stdout",
     "output_type": "stream",
     "text": [
      "2.832687092711373e-15\n"
     ]
    }
   ],
   "source": [
    "y_residual_stdev = stdev(y_all['y_residual'])\n",
    "print(y_residual_stdev)"
   ]
  },
  {
   "cell_type": "markdown",
   "metadata": {},
   "source": [
    "<b>Plot y_Actual vs y_Predicted</b>"
   ]
  },
  {
   "cell_type": "code",
   "execution_count": 9,
   "metadata": {},
   "outputs": [
    {
     "data": {
      "text/plain": [
       "<matplotlib.axes._subplots.AxesSubplot at 0x1e476cb7f08>"
      ]
     },
     "execution_count": 9,
     "metadata": {},
     "output_type": "execute_result"
    },
    {
     "data": {
      "image/png": "[encoded data removed]",
      "text/plain": [
       "<Figure size 432x288 with 1 Axes>"
      ]
     },
     "metadata": {
      "needs_background": "light"
     },
     "output_type": "display_data"
    }
   ],
   "source": [
    "import seaborn as sns\n",
    "sns.regplot(x=\"y_Actual\", y=\"y_Predicted\", data=y_all, ci=95, color=\"g\")"
   ]
  },
  {
   "cell_type": "markdown",
   "metadata": {},
   "source": [
    "<b>Calculate VIF for all Xs</b>"
   ]
  },
  {
   "cell_type": "code",
   "execution_count": 10,
   "metadata": {},
   "outputs": [],
   "source": [
    "from statsmodels.stats.outliers_influence import variance_inflation_factor\n",
    "\n",
    "def calculate_VIF(input_df):\n",
    "    VIF_df = pd.DataFrame([variance_inflation_factor(input_df.values, i) \n",
    "                   for i in range(input_df.shape[1])],\n",
    "                  index=input_df.columns)\n",
    "\n",
    "    if len(VIF_df[VIF_df[0] > 5]) > 0:\n",
    "        #print(\"X columns with VIF above 5 are: \", VIF_df[VIF_df[0] > 5].values)\n",
    "        #message = \"There are \"+str(len(VIF_df[VIF_df[0] > 5]))+\" X-columns with VIF above 5\"\n",
    "        return VIF_df, \"There are \"+str(len(VIF_df[VIF_df[0] > 5]))+\" x-variables with VIF above 5\"\n",
    "    else:\n",
    "        # print(\"None of the X columns have VIF higher than 5\")\n",
    "        return VIF_df, (\"None of the x-variables have VIF higher than 5\")"
   ]
  },
  {
   "cell_type": "code",
   "execution_count": 11,
   "metadata": {},
   "outputs": [
    {
     "name": "stdout",
     "output_type": "stream",
     "text": [
      "None of the x-variables have VIF higher than 5\n",
      "           0\n",
      "x1  1.000000\n",
      "x2  1.000003\n",
      "x3  1.000004\n",
      "x4  1.000005\n",
      "x5  1.000007\n"
     ]
    }
   ],
   "source": [
    "vif_list, message = calculate_VIF(X_all)\n",
    "print(message)\n",
    "print(vif_list)"
   ]
  },
  {
   "cell_type": "markdown",
   "metadata": {},
   "source": [
    "<b>Step 4:  covariance matrix for all variables with residuals</b>"
   ]
  },
  {
   "cell_type": "code",
   "execution_count": 12,
   "metadata": {},
   "outputs": [
    {
     "data": {
      "text/html": [
       "<div>\n",
       "<style scoped>\n",
       "    .dataframe tbody tr th:only-of-type {\n",
       "        vertical-align: middle;\n",
       "    }\n",
       "\n",
       "    .dataframe tbody tr th {\n",
       "        vertical-align: top;\n",
       "    }\n",
       "\n",
       "    .dataframe thead th {\n",
       "        text-align: right;\n",
       "    }\n",
       "</style>\n",
       "<table border=\"1\" class=\"dataframe\">\n",
       "  <thead>\n",
       "    <tr style=\"text-align: right;\">\n",
       "      <th></th>\n",
       "      <th>y_Actual</th>\n",
       "      <th>y_Predicted</th>\n",
       "      <th>y_residual</th>\n",
       "      <th>x1</th>\n",
       "      <th>x2</th>\n",
       "      <th>x3</th>\n",
       "      <th>x4</th>\n",
       "      <th>x5</th>\n",
       "    </tr>\n",
       "  </thead>\n",
       "  <tbody>\n",
       "    <tr>\n",
       "      <td>y_Actual</td>\n",
       "      <td>14.0261</td>\n",
       "      <td>14.0261</td>\n",
       "      <td>0.0</td>\n",
       "      <td>0.0729</td>\n",
       "      <td>0.0518</td>\n",
       "      <td>0.0679</td>\n",
       "      <td>0.0068</td>\n",
       "      <td>0.0366</td>\n",
       "    </tr>\n",
       "    <tr>\n",
       "      <td>y_Predicted</td>\n",
       "      <td>14.0261</td>\n",
       "      <td>14.0261</td>\n",
       "      <td>0.0</td>\n",
       "      <td>0.0729</td>\n",
       "      <td>0.0518</td>\n",
       "      <td>0.0679</td>\n",
       "      <td>0.0068</td>\n",
       "      <td>0.0366</td>\n",
       "    </tr>\n",
       "    <tr>\n",
       "      <td>y_residual</td>\n",
       "      <td>0.0000</td>\n",
       "      <td>0.0000</td>\n",
       "      <td>0.0</td>\n",
       "      <td>0.0000</td>\n",
       "      <td>0.0000</td>\n",
       "      <td>0.0000</td>\n",
       "      <td>0.0000</td>\n",
       "      <td>0.0000</td>\n",
       "    </tr>\n",
       "    <tr>\n",
       "      <td>x1</td>\n",
       "      <td>0.0729</td>\n",
       "      <td>0.0729</td>\n",
       "      <td>0.0</td>\n",
       "      <td>0.0010</td>\n",
       "      <td>0.0000</td>\n",
       "      <td>0.0000</td>\n",
       "      <td>0.0000</td>\n",
       "      <td>0.0000</td>\n",
       "    </tr>\n",
       "    <tr>\n",
       "      <td>x2</td>\n",
       "      <td>0.0518</td>\n",
       "      <td>0.0518</td>\n",
       "      <td>0.0</td>\n",
       "      <td>0.0000</td>\n",
       "      <td>0.0010</td>\n",
       "      <td>0.0000</td>\n",
       "      <td>-0.0000</td>\n",
       "      <td>0.0000</td>\n",
       "    </tr>\n",
       "    <tr>\n",
       "      <td>x3</td>\n",
       "      <td>0.0679</td>\n",
       "      <td>0.0679</td>\n",
       "      <td>0.0</td>\n",
       "      <td>0.0000</td>\n",
       "      <td>0.0000</td>\n",
       "      <td>0.0010</td>\n",
       "      <td>-0.0000</td>\n",
       "      <td>-0.0000</td>\n",
       "    </tr>\n",
       "    <tr>\n",
       "      <td>x4</td>\n",
       "      <td>0.0068</td>\n",
       "      <td>0.0068</td>\n",
       "      <td>0.0</td>\n",
       "      <td>0.0000</td>\n",
       "      <td>-0.0000</td>\n",
       "      <td>-0.0000</td>\n",
       "      <td>0.0010</td>\n",
       "      <td>-0.0000</td>\n",
       "    </tr>\n",
       "    <tr>\n",
       "      <td>x5</td>\n",
       "      <td>0.0366</td>\n",
       "      <td>0.0366</td>\n",
       "      <td>0.0</td>\n",
       "      <td>0.0000</td>\n",
       "      <td>0.0000</td>\n",
       "      <td>-0.0000</td>\n",
       "      <td>-0.0000</td>\n",
       "      <td>0.0010</td>\n",
       "    </tr>\n",
       "  </tbody>\n",
       "</table>\n",
       "</div>"
      ],
      "text/plain": [
       "             y_Actual  y_Predicted  y_residual      x1      x2      x3  \\\n",
       "y_Actual      14.0261      14.0261         0.0  0.0729  0.0518  0.0679   \n",
       "y_Predicted   14.0261      14.0261         0.0  0.0729  0.0518  0.0679   \n",
       "y_residual     0.0000       0.0000         0.0  0.0000  0.0000  0.0000   \n",
       "x1             0.0729       0.0729         0.0  0.0010  0.0000  0.0000   \n",
       "x2             0.0518       0.0518         0.0  0.0000  0.0010  0.0000   \n",
       "x3             0.0679       0.0679         0.0  0.0000  0.0000  0.0010   \n",
       "x4             0.0068       0.0068         0.0  0.0000 -0.0000 -0.0000   \n",
       "x5             0.0366       0.0366         0.0  0.0000  0.0000 -0.0000   \n",
       "\n",
       "                 x4      x5  \n",
       "y_Actual     0.0068  0.0366  \n",
       "y_Predicted  0.0068  0.0366  \n",
       "y_residual   0.0000  0.0000  \n",
       "x1           0.0000  0.0000  \n",
       "x2          -0.0000  0.0000  \n",
       "x3          -0.0000 -0.0000  \n",
       "x4           0.0010 -0.0000  \n",
       "x5          -0.0000  0.0010  "
      ]
     },
     "execution_count": 12,
     "metadata": {},
     "output_type": "execute_result"
    }
   ],
   "source": [
    "X_y_all = pd.concat([y_all, X_all], axis=1)\n",
    "X_y_all.cov().round(4)"
   ]
  },
  {
   "cell_type": "markdown",
   "metadata": {},
   "source": [
    "### <b>Results:</b>\n",
    "1. R-square and Adjusted R-square is equal to 1\n",
    "2. VIF for x1 through x5 is almost equal to 1, indicating no multicollinearity\n",
    "3. Standard deviation of the Gaussian noise = 0\n",
    "4. Cov(all Xs, Error) is equal to zero\n",
    "5. All Xs i.e. x1 through x5, are significant as P-value in model summary is almost 0\n",
    "6. Intercept (constant) is equal to 3.469e-18 and is not significant (P-value is equal to 0.974)"
   ]
  },
  {
   "cell_type": "markdown",
   "metadata": {},
   "source": [
    "### <b>Conclusion:</b>\n",
    "As seen in Step 4 Covariance matrix, the covariance of the error and the Xs is 0 and hence we can conclude prohibition of a link between the independent variables and error."
   ]
  },
  {
   "cell_type": "code",
   "execution_count": null,
   "metadata": {},
   "outputs": [],
   "source": []
  }
 ],
 "metadata": {
  "kernelspec": {
   "display_name": "Python 3",
   "language": "python",
   "name": "python3"
  },
  "language_info": {
   "codemirror_mode": {
    "name": "ipython",
    "version": 3
   },
   "file_extension": ".py",
   "mimetype": "text/x-python",
   "name": "python",
   "nbconvert_exporter": "python",
   "pygments_lexer": "ipython3",
   "version": "3.7.4"
  }
 },
 "nbformat": 4,
 "nbformat_minor": 2
}
